{
 "cells": [
  {
   "cell_type": "markdown",
   "id": "03027d66",
   "metadata": {},
   "source": [
    "# Multi-wavelength data tutorial for galaxies\n",
    "\n",
    "This notebook shows: \n",
    "- how to acess multi-wavelength imaging data using the skyview data base.\n",
    "- how to make high quality plots\n",
    "- how to make 3 colour plots of astronomical data\n",
    "- how to make overlays of images\n"
   ]
  },
  {
   "cell_type": "code",
   "execution_count": 1,
   "id": "2615d51e",
   "metadata": {},
   "outputs": [],
   "source": [
    "# loading packages\n",
    "\n",
    "import numpy as np\n",
    "import matplotlib.pyplot as plt\n",
    "\n",
    "# standard astronomy packages\n",
    "from astropy.io import fits\n",
    "from astropy import units as u\n",
    "from astropy.coordinates import SkyCoord\n",
    "from astropy.wcs import WCS\n",
    "from reproject import reproject_interp\n",
    "\n",
    "# accessing data from SkyView\n",
    "from astroquery.skyview import SkyView\n",
    "from astroquery.vizier import Vizier\n",
    "\n",
    "# for 3 colour images\n",
    "from astropy.visualization import make_lupton_rgb\n",
    "from astropy.utils.data import get_pkg_data_filename"
   ]
  },
  {
   "cell_type": "code",
   "execution_count": 2,
   "id": "21d7bdb5",
   "metadata": {},
   "outputs": [],
   "source": [
    "#SkyView.list_surveys() "
   ]
  },
  {
   "cell_type": "markdown",
   "id": "9951420f",
   "metadata": {},
   "source": [
    "## Retrieve image from an online archive\n",
    "We are going to use skyview \n",
    "\n",
    "You can check the name of the available survey data here: https://astroquery.readthedocs.io/en/latest/skyview/skyview.html  (this is a list of names that can go into the survey argument)\n",
    "\n",
    "You can also use the skyview website directly to check if the particular survey has data for that galaxy: https://skyview.gsfc.nasa.gov/current/cgi/query.pl just type in the name or the coordinates of the galaxy and select the surveys you are interested in.\n",
    "\n",
    "Generaly the DSS2 Survey (2nd Digitised Sky Survey) is a good start since it covers the whole sky. 'Blue' referes to the band in which the data was taken. Blue is taken with a filter that lets trough the blue optical light from the galaxy."
   ]
  },
  {
   "cell_type": "code",
   "execution_count": 3,
   "id": "23996192",
   "metadata": {},
   "outputs": [
    {
     "data": {
      "text/latex": [
       "$\\mathrm{min}$"
      ],
      "text/plain": [
       "Unit(\"min\")"
      ]
     },
     "execution_count": 3,
     "metadata": {},
     "output_type": "execute_result"
    }
   ],
   "source": [
    "ref=0.3*u.deg\n",
    "ref2= 18*u.min\n",
    "\n",
    "#ref.value\n",
    "\n",
    "ref2.unit"
   ]
  },
  {
   "cell_type": "code",
   "execution_count": 4,
   "id": "82223497",
   "metadata": {},
   "outputs": [],
   "source": [
    "#paths = SkyView.get_images(position='Eta Carinae', survey=['Fermi 5', 'HRI', 'DSS'])\n",
    "\n",
    "#print(paths)\n",
    "\n",
    "#SkyView.get_image_list(position='Eta Carinae', survey=['Fermi 5', 'HRI', 'DSS'])  \n",
    "#SkyView.get_image_list(position='NGC 4321', survey=['DSS2 Blue'])  "
   ]
  },
  {
   "cell_type": "code",
   "execution_count": 5,
   "id": "74b9e1dc",
   "metadata": {},
   "outputs": [
    {
     "ename": "ValueError",
     "evalue": "Quantity truthiness is ambiguous, especially for logarithmic units and temperatures. Use explicit comparisons.",
     "output_type": "error",
     "traceback": [
      "\u001b[0;31m---------------------------------------------------------------------------\u001b[0m",
      "\u001b[0;31mValueError\u001b[0m                                Traceback (most recent call last)",
      "\u001b[0;32m/tmp/ipykernel_358/699406227.py\u001b[0m in \u001b[0;36m<module>\u001b[0;34m\u001b[0m\n\u001b[1;32m      7\u001b[0m \u001b[0;34m\u001b[0m\u001b[0m\n\u001b[1;32m      8\u001b[0m \u001b[0;34m\u001b[0m\u001b[0m\n\u001b[0;32m----> 9\u001b[0;31m \u001b[0mpath\u001b[0m \u001b[0;34m=\u001b[0m \u001b[0mSkyView\u001b[0m\u001b[0;34m.\u001b[0m\u001b[0mget_images\u001b[0m\u001b[0;34m(\u001b[0m\u001b[0mposition\u001b[0m\u001b[0;34m=\u001b[0m\u001b[0mname\u001b[0m\u001b[0;34m,\u001b[0m \u001b[0mwidth\u001b[0m\u001b[0;34m=\u001b[0m\u001b[0;36m0.3\u001b[0m\u001b[0;34m*\u001b[0m\u001b[0mu\u001b[0m\u001b[0;34m.\u001b[0m\u001b[0mdeg\u001b[0m\u001b[0;34m,\u001b[0m \u001b[0mheight\u001b[0m\u001b[0;34m=\u001b[0m\u001b[0;36m0.3\u001b[0m\u001b[0;34m*\u001b[0m\u001b[0mu\u001b[0m\u001b[0;34m.\u001b[0m\u001b[0mdeg\u001b[0m\u001b[0;34m,\u001b[0m \u001b[0msurvey\u001b[0m\u001b[0;34m=\u001b[0m\u001b[0;34m[\u001b[0m\u001b[0;34m'DSS2 Blue'\u001b[0m\u001b[0;34m]\u001b[0m\u001b[0;34m,\u001b[0m \u001b[0mpixels\u001b[0m\u001b[0;34m=\u001b[0m\u001b[0;34m[\u001b[0m\u001b[0;36m900\u001b[0m\u001b[0;34m,\u001b[0m\u001b[0;36m900\u001b[0m\u001b[0;34m]\u001b[0m\u001b[0;34m)\u001b[0m\u001b[0;34m\u001b[0m\u001b[0;34m\u001b[0m\u001b[0m\n\u001b[0m\u001b[1;32m     10\u001b[0m \u001b[0;31m#path = SkyView.get_images(position=name,survey=['DSS2 Blue'], pixels=[900,900])\u001b[0m\u001b[0;34m\u001b[0m\u001b[0;34m\u001b[0m\u001b[0m\n\u001b[1;32m     11\u001b[0m \u001b[0;34m\u001b[0m\u001b[0m\n",
      "\u001b[0;32m~/miniconda3/lib/python3.9/site-packages/astroquery/skyview/core.py\u001b[0m in \u001b[0;36mget_images\u001b[0;34m(self, position, survey, coordinates, projection, pixels, scaling, sampler, resolver, deedger, lut, grid, gridlabels, radius, height, width, cache, show_progress)\u001b[0m\n\u001b[1;32m    198\u001b[0m \u001b[0;34m\u001b[0m\u001b[0m\n\u001b[1;32m    199\u001b[0m         \"\"\"\n\u001b[0;32m--> 200\u001b[0;31m         readable_objects = self.get_images_async(position, survey, coordinates,\n\u001b[0m\u001b[1;32m    201\u001b[0m                                                  \u001b[0mprojection\u001b[0m\u001b[0;34m,\u001b[0m \u001b[0mpixels\u001b[0m\u001b[0;34m,\u001b[0m \u001b[0mscaling\u001b[0m\u001b[0;34m,\u001b[0m\u001b[0;34m\u001b[0m\u001b[0;34m\u001b[0m\u001b[0m\n\u001b[1;32m    202\u001b[0m                                                  \u001b[0msampler\u001b[0m\u001b[0;34m,\u001b[0m \u001b[0mresolver\u001b[0m\u001b[0;34m,\u001b[0m \u001b[0mdeedger\u001b[0m\u001b[0;34m,\u001b[0m\u001b[0;34m\u001b[0m\u001b[0;34m\u001b[0m\u001b[0m\n",
      "\u001b[0;32m~/miniconda3/lib/python3.9/site-packages/astroquery/skyview/core.py\u001b[0m in \u001b[0;36mget_images_async\u001b[0;34m(self, position, survey, coordinates, projection, pixels, scaling, sampler, resolver, deedger, lut, grid, gridlabels, radius, height, width, cache, show_progress)\u001b[0m\n\u001b[1;32m    219\u001b[0m         \u001b[0mA\u001b[0m \u001b[0mlist\u001b[0m \u001b[0mof\u001b[0m \u001b[0mcontext\u001b[0m\u001b[0;34m-\u001b[0m\u001b[0mmanagers\u001b[0m \u001b[0mthat\u001b[0m \u001b[0;32myield\u001b[0m \u001b[0mreadable\u001b[0m \u001b[0mfile\u001b[0m\u001b[0;34m-\u001b[0m\u001b[0mlike\u001b[0m \u001b[0mobjects\u001b[0m\u001b[0;34m\u001b[0m\u001b[0;34m\u001b[0m\u001b[0m\n\u001b[1;32m    220\u001b[0m         \"\"\"\n\u001b[0;32m--> 221\u001b[0;31m         image_urls = self.get_image_list(position, survey, coordinates,\n\u001b[0m\u001b[1;32m    222\u001b[0m                                          \u001b[0mprojection\u001b[0m\u001b[0;34m,\u001b[0m \u001b[0mpixels\u001b[0m\u001b[0;34m,\u001b[0m \u001b[0mscaling\u001b[0m\u001b[0;34m,\u001b[0m \u001b[0msampler\u001b[0m\u001b[0;34m,\u001b[0m\u001b[0;34m\u001b[0m\u001b[0;34m\u001b[0m\u001b[0m\n\u001b[1;32m    223\u001b[0m                                          \u001b[0mresolver\u001b[0m\u001b[0;34m,\u001b[0m \u001b[0mdeedger\u001b[0m\u001b[0;34m,\u001b[0m \u001b[0mlut\u001b[0m\u001b[0;34m,\u001b[0m \u001b[0mgrid\u001b[0m\u001b[0;34m,\u001b[0m\u001b[0;34m\u001b[0m\u001b[0;34m\u001b[0m\u001b[0m\n",
      "\u001b[0;32m~/miniconda3/lib/python3.9/site-packages/astroquery/skyview/core.py\u001b[0m in \u001b[0;36mget_image_list\u001b[0;34m(self, position, survey, coordinates, projection, pixels, scaling, sampler, resolver, deedger, lut, grid, gridlabels, radius, width, height, cache)\u001b[0m\n\u001b[1;32m    253\u001b[0m         \u001b[0;32mif\u001b[0m \u001b[0mradius\u001b[0m \u001b[0;32mis\u001b[0m \u001b[0;32mnot\u001b[0m \u001b[0;32mNone\u001b[0m\u001b[0;34m:\u001b[0m\u001b[0;34m\u001b[0m\u001b[0;34m\u001b[0m\u001b[0m\n\u001b[1;32m    254\u001b[0m             \u001b[0msize_deg\u001b[0m \u001b[0;34m=\u001b[0m \u001b[0mstr\u001b[0m\u001b[0;34m(\u001b[0m\u001b[0mradius\u001b[0m\u001b[0;34m.\u001b[0m\u001b[0mto\u001b[0m\u001b[0;34m(\u001b[0m\u001b[0mu\u001b[0m\u001b[0;34m.\u001b[0m\u001b[0mdeg\u001b[0m\u001b[0;34m)\u001b[0m\u001b[0;34m.\u001b[0m\u001b[0mvalue\u001b[0m\u001b[0;34m)\u001b[0m\u001b[0;34m\u001b[0m\u001b[0;34m\u001b[0m\u001b[0m\n\u001b[0;32m--> 255\u001b[0;31m         \u001b[0;32melif\u001b[0m \u001b[0mwidth\u001b[0m \u001b[0;32mand\u001b[0m \u001b[0mheight\u001b[0m\u001b[0;34m:\u001b[0m\u001b[0;34m\u001b[0m\u001b[0;34m\u001b[0m\u001b[0m\n\u001b[0m\u001b[1;32m    256\u001b[0m             size_deg = \"{0},{1}\".format(width.to(u.deg).value,\n\u001b[1;32m    257\u001b[0m                                         height.to(u.deg).value)\n",
      "\u001b[0;32m~/miniconda3/lib/python3.9/site-packages/astropy/units/quantity.py\u001b[0m in \u001b[0;36m__bool__\u001b[0;34m(self)\u001b[0m\n\u001b[1;32m   1332\u001b[0m         \u001b[0mespecially\u001b[0m \u001b[0;32mfor\u001b[0m \u001b[0mlogarithmic\u001b[0m \u001b[0munits\u001b[0m \u001b[0;32mand\u001b[0m \u001b[0mtemperatures\u001b[0m\u001b[0;34m.\u001b[0m \u001b[0mUse\u001b[0m \u001b[0mexplicit\u001b[0m \u001b[0mcomparisons\u001b[0m\u001b[0;34m.\u001b[0m\u001b[0;34m\u001b[0m\u001b[0;34m\u001b[0m\u001b[0m\n\u001b[1;32m   1333\u001b[0m         \"\"\"\n\u001b[0;32m-> 1334\u001b[0;31m         raise ValueError(\n\u001b[0m\u001b[1;32m   1335\u001b[0m             \u001b[0;34mf\"{type(self).__name__} truthiness is ambiguous, especially for logarithmic units\"\u001b[0m\u001b[0;34m\u001b[0m\u001b[0;34m\u001b[0m\u001b[0m\n\u001b[1;32m   1336\u001b[0m             \u001b[0;34m\" and temperatures. Use explicit comparisons.\"\u001b[0m\u001b[0;34m\u001b[0m\u001b[0;34m\u001b[0m\u001b[0m\n",
      "\u001b[0;31mValueError\u001b[0m: Quantity truthiness is ambiguous, especially for logarithmic units and temperatures. Use explicit comparisons."
     ]
    }
   ],
   "source": [
    "# this line grabs the image from the remote server\n",
    "# The example galaxies are from the Virgo cluster\n",
    "\n",
    "name = 'NGC 4321' # spiral galaxy\n",
    "#name = 'NGC 4262'  # elliptical galaxy\n",
    "#name = 'NGC 4388' #spiral galaxy\n",
    "\n",
    "\n",
    "path = SkyView.get_images(position=name, width=0.3*u.deg, height=0.3*u.deg, survey=['DSS2 Blue'], pixels=[900,900])\n",
    "#path = SkyView.get_images(position=name,survey=['DSS2 Blue'], pixels=[900,900])\n",
    "\n",
    "\n",
    "# this line puts the data into a fits image\n",
    "hdulist_DSS2 = path[0]\n",
    "d_DSS2 = hdulist_DSS2[0].data\n",
    "h_DSS2 = hdulist_DSS2[0].header"
   ]
  },
  {
   "cell_type": "markdown",
   "id": "ac17e449",
   "metadata": {},
   "source": [
    "## Check the data"
   ]
  },
  {
   "cell_type": "code",
   "execution_count": null,
   "id": "cfb28cfc",
   "metadata": {},
   "outputs": [],
   "source": [
    "# check the dimensions of the data\n",
    "print(d_DSS2.shape)\n",
    "\n",
    "# quick look\n",
    "plt.imshow(d_DSS2)"
   ]
  },
  {
   "cell_type": "code",
   "execution_count": null,
   "id": "d81baa93",
   "metadata": {},
   "outputs": [],
   "source": [
    "# print the full header\n",
    "# print(h_DSS2) \n",
    "\n",
    "# print the top part of the header which tends to have the relevant information\n",
    "print(h_DSS2[0:30])"
   ]
  },
  {
   "cell_type": "markdown",
   "id": "7811c447",
   "metadata": {},
   "source": [
    "## Make high quality images"
   ]
  },
  {
   "cell_type": "code",
   "execution_count": null,
   "id": "8f7d4efb",
   "metadata": {},
   "outputs": [],
   "source": [
    "# lets make a nice figure\n",
    "\n",
    "fig = plt.figure(figsize=(11,10))\n",
    "\n",
    "# to correctly label the axes we are using the WCS package from astropy \n",
    "# WCS stands for World Coordinate System\n",
    "ax = fig.add_subplot(1,1,1, projection=WCS(h_DSS2))\n",
    "ax.imshow(d_DSS2, cmap='Oranges', vmax=np.percentile(d_DSS2, 99.8))\n",
    "ax.set_xlabel('RA', size=18,family='serif')\n",
    "ax.set_ylabel('Dec', size=18,family='serif')\n",
    "plt.xticks(fontsize=25)\n",
    "plt.yticks(fontsize=25)\n",
    "\n",
    "fig.savefig('{}_DDS2.png'.format(name), dpi=200)\n",
    "\n",
    "# Note that the HI disk is very similar in size to the stellar disk\n",
    "\n"
   ]
  },
  {
   "cell_type": "markdown",
   "id": "75e6b552",
   "metadata": {},
   "source": [
    "## Make 3 colour images\n",
    "\n",
    "For this we will more modern data from SDSS survey (https://classic.sdss.org/home.php)\n",
    "\n",
    "Note that this survey uses different filters (different wavelengths) comapred to the DSS survey."
   ]
  },
  {
   "cell_type": "code",
   "execution_count": null,
   "id": "9db04f53",
   "metadata": {},
   "outputs": [],
   "source": [
    "#path = SkyView.get_images(position=name, width=0.3*u.deg, height=0.3*u.deg, survey=['SDSSg'], pixels=[900,900])\n",
    "path = SkyView.get_images(position=name, survey=['SDSSg'], pixels=[900,900])\n",
    "\n",
    "\n",
    "# this line puts the data into a fits image\n",
    "hdulist_SDSS_g = path[0]\n",
    "d_SDSS_g = hdulist_SDSS_g[0].data\n",
    "h_SDSS_g = hdulist_SDSS_g[0].header\n",
    "\n",
    "#path = SkyView.get_images(position=name, width=0.3*u.deg, height=0.3*u.deg, survey=['SDSSr'], pixels=[900,900])\n",
    "path = SkyView.get_images(position=name, survey=['SDSSr'], pixels=[900,900])\n",
    "\n",
    "\n",
    "# this line puts the data into a fits image\n",
    "hdulist_SDSS_r = path[0]\n",
    "d_SDSS_r = hdulist_SDSS_r[0].data\n",
    "h_SDSS_r = hdulist_SDSS_r[0].header\n",
    "\n",
    "#path = SkyView.get_images(position=name, width=0.3*u.deg, height=0.3*u.deg, survey=['SDSSi'], pixels=[900,900])\n",
    "path = SkyView.get_images(position=name, survey=['SDSSi'], pixels=[900,900])\n",
    "\n",
    "\n",
    "# this line puts the data into a fits image\n",
    "hdulist_SDSS_i = path[0]\n",
    "d_SDSS_i = hdulist_SDSS_i[0].data\n",
    "h_SDSS_i = hdulist_SDSS_i[0].header"
   ]
  },
  {
   "cell_type": "code",
   "execution_count": null,
   "id": "c6d1526a",
   "metadata": {},
   "outputs": [],
   "source": [
    "# check the SDSS data\n",
    "\n",
    "print(h_SDSS_r[0:35])"
   ]
  },
  {
   "cell_type": "code",
   "execution_count": null,
   "id": "5e18880f",
   "metadata": {},
   "outputs": [],
   "source": [
    "plt.imshow(d_SDSS_r, vmax=np.percentile(d_SDSS_r, 99.8))\n",
    "\n",
    "\n",
    "fig = plt.figure(figsize=(11,10))\n",
    "ax = fig.add_subplot(1,1,1, projection=WCS(h_DSS2))\n",
    "ax.imshow(d_DSS2, cmap='Oranges', vmax=np.percentile(d_DSS2, 99.8))\n",
    "ax.set_xlabel('RA', size=18,family='serif')\n",
    "ax.set_ylabel('Dec', size=18,family='serif')\n",
    "plt.xticks(fontsize=25)\n",
    "plt.yticks(fontsize=25)\n",
    "\n",
    "fig.savefig('{}_DDS2.png'.format(name), dpi=200)"
   ]
  },
  {
   "cell_type": "code",
   "execution_count": null,
   "id": "2b7e96b4",
   "metadata": {},
   "outputs": [],
   "source": [
    "# assigning colours to the image layers\n",
    "g = d_SDSS_g\n",
    "r = d_SDSS_r\n",
    "i = d_SDSS_i\n",
    "\n",
    "# making a quick image\n",
    "# A lower Q and stretch parameter make the fainter features in the image visible\n",
    "rgb_default = make_lupton_rgb(g, r, i, Q=5, stretch=0.5, filename=\"test.jpeg\")\n",
    "\n",
    "# checking the data\n",
    "plt.imshow(rgb_default, origin='lower')"
   ]
  },
  {
   "cell_type": "code",
   "execution_count": null,
   "id": "6803f923",
   "metadata": {},
   "outputs": [],
   "source": [
    "# making a plot\n",
    "fig = plt.figure(figsize=(11,10))\n",
    "\n",
    "ax = fig.add_subplot(1,1,1, projection=WCS(h_SDSS_g))\n",
    "plt.imshow(rgb_default, origin='lower')\n",
    "ax.set_xlabel('RA', size=18,family='serif')\n",
    "ax.set_ylabel('Dec', size=18,family='serif')\n",
    "plt.xticks(fontsize=25)\n",
    "plt.yticks(fontsize=25)\n",
    "\n",
    "fig.savefig('{}_SDSS.png'.format(name), dpi=200)\n"
   ]
  },
  {
   "cell_type": "markdown",
   "id": "d588d277",
   "metadata": {},
   "source": [
    "## Compare data from different wavelengths\n",
    "\n",
    "GALEX NUV, SDSS r, 2MASS J, WISE 3.4, and NVSS data\n",
    "\n",
    "What is the difference? What to do we see in the different bands?"
   ]
  },
  {
   "cell_type": "code",
   "execution_count": null,
   "id": "a8805e29",
   "metadata": {},
   "outputs": [],
   "source": [
    "# get the data\n",
    "\n",
    "# UV\n",
    "#path = SkyView.get_images(position=name, width=0.3*u.deg, height=0.3*u.deg, survey=['GALEX Near UV'], pixels=[900,900])\n",
    "path = SkyView.get_images(position=name, survey=['GALEX Near UV'], pixels=[900,900])\n",
    "\n",
    "\n",
    "hdulist_GALEX_NUV = path[0]\n",
    "d_GALEX_NUV = hdulist_GALEX_NUV[0].data\n",
    "h_GALEX_NUV = hdulist_GALEX_NUV[0].header\n",
    "\n",
    "# near infrared\n",
    "#path = SkyView.get_images(position=name, width=0.3*u.deg, height=0.3*u.deg, survey=['2MASS-J'], pixels=[900,900])\n",
    "path = SkyView.get_images(position=name, survey=['2MASS-J'], pixels=[900,900])\n",
    "\n",
    "\n",
    "hdulist_2MASS_J = path[0]\n",
    "d_2MASS_J = hdulist_2MASS_J[0].data\n",
    "h_2MASS_J = hdulist_2MASS_J[0].header\n",
    "\n",
    "# infrared\n",
    "#path = SkyView.get_images(position=name, width=0.3*u.deg, height=0.3*u.deg, survey=['WISE 3.4'], pixels=[900,900])\n",
    "path = SkyView.get_images(position=name, survey=['WISE 3.4'], pixels=[900,900])\n",
    "\n",
    "\n",
    "hdulist_WISE_34 = path[0]\n",
    "d_WISE_34 = hdulist_WISE_34[0].data\n",
    "h_WISE_34 = hdulist_WISE_34[0].header\n",
    "\n",
    "# radio \n",
    "#path = SkyView.get_images(position=name, width=0.3*u.deg, height=0.3*u.deg, survey=['NVSS'], pixels=[900,900])\n",
    "path = SkyView.get_images(position=name, survey=['NVSS'], pixels=[900,900])\n",
    "\n",
    "\n",
    "hdulist_NVSS = path[0]\n",
    "d_NVSS = hdulist_NVSS[0].data\n",
    "h_NVSS = hdulist_NVSS[0].header"
   ]
  },
  {
   "cell_type": "code",
   "execution_count": null,
   "id": "8d2d7f6a",
   "metadata": {},
   "outputs": [],
   "source": [
    "# comapre images\n",
    "\n",
    "fig = plt.figure(figsize=(17,10))\n",
    "\n",
    "ax1 = fig.add_subplot(2,3,1, projection=WCS(h_DSS2))\n",
    "ax1.text(100, 800 ,'DSS2 blue', fontsize=20)\n",
    "ax1.imshow(d_DSS2, cmap='Oranges', vmax=np.percentile(d_DSS2, 99.8))\n",
    "ax1.set_xlabel('RA', size=18,family='serif')\n",
    "ax1.set_ylabel('Dec', size=18,family='serif')\n",
    "plt.xticks(fontsize=25)\n",
    "plt.yticks(fontsize=25)\n",
    "\n",
    "ax2 = fig.add_subplot(2,3,2, projection=WCS(h_SDSS_r))\n",
    "ax2.text(100, 800 ,'SDSS r', fontsize=20)\n",
    "ax2.imshow(d_SDSS_r, cmap='Oranges', vmax=np.percentile(d_SDSS_r, 99.8))\n",
    "ax2.set_xlabel('RA', size=18,family='serif')\n",
    "ax2.set_ylabel('Dec', size=18,family='serif')\n",
    "plt.xticks(fontsize=25)\n",
    "plt.yticks(fontsize=25)\n",
    "\n",
    "ax3 = fig.add_subplot(2,3,3, projection=WCS(h_DSS2))\n",
    "ax3.text(100, 800 ,'GALEX NUV', fontsize=20)\n",
    "ax3.imshow(d_GALEX_NUV, cmap='Oranges', vmax=np.percentile(d_GALEX_NUV, 99.8))\n",
    "ax3.set_xlabel('RA', size=18,family='serif')\n",
    "ax3.set_ylabel('Dec', size=18,family='serif')\n",
    "plt.xticks(fontsize=25)\n",
    "plt.yticks(fontsize=25)\n",
    "\n",
    "ax4 = fig.add_subplot(2,3,4, projection=WCS(h_DSS2))\n",
    "ax4.text(100, 800 ,'2MASS J', fontsize=20)\n",
    "ax4.imshow(d_2MASS_J, cmap='Oranges', vmax=np.percentile(d_2MASS_J, 99.8))\n",
    "ax4.set_xlabel('RA', size=18,family='serif')\n",
    "ax4.set_ylabel('Dec', size=18,family='serif')\n",
    "plt.xticks(fontsize=25)\n",
    "plt.yticks(fontsize=25)\n",
    "\n",
    "ax5 = fig.add_subplot(2,3,5, projection=WCS(h_DSS2))\n",
    "ax5.text(100, 800 ,'WISE 3.4', fontsize=20)\n",
    "ax5.imshow(d_WISE_34, cmap='Oranges', vmax=np.percentile(d_WISE_34, 99.8))\n",
    "ax5.set_xlabel('RA', size=18,family='serif')\n",
    "ax5.set_ylabel('Dec', size=18,family='serif')\n",
    "plt.xticks(fontsize=25)\n",
    "plt.yticks(fontsize=25)\n",
    "\n",
    "ax6 = fig.add_subplot(2,3,6, projection=WCS(h_DSS2))\n",
    "ax6.text(100, 800 ,'NVSS', fontsize=20)\n",
    "ax6.imshow(d_NVSS, cmap='Oranges', vmax=np.percentile(d_NVSS, 99.8))\n",
    "ax6.set_xlabel('RA', size=18,family='serif')\n",
    "ax6.set_ylabel('Dec', size=18,family='serif')\n",
    "plt.xticks(fontsize=25)\n",
    "plt.yticks(fontsize=25)\n",
    "\n",
    "fig.savefig('{}_compare.png'.format(name), dpi=200)"
   ]
  },
  {
   "cell_type": "markdown",
   "id": "cc87516e",
   "metadata": {},
   "source": [
    "## Making an overlay"
   ]
  },
  {
   "cell_type": "code",
   "execution_count": null,
   "id": "a7905df8",
   "metadata": {},
   "outputs": [],
   "source": [
    "# reproject the data onto the same pixel grid\n",
    "# we are reprojecting the radio data onto the grid of the optical data, since the resolution of the optical data is generally better\n",
    "NVSS_reprojected, footprint = reproject_interp(hdulist_NVSS, h_SDSS_r)\n",
    "\n",
    "\n",
    "# calculating the rms of the radio data - this can be used for the contours\n",
    "rms_NVSS = np.sqrt(np.mean(NVSS_reprojected**2))\n",
    "\n",
    "fig = plt.figure(figsize=(11,10))\n",
    "ax = fig.add_subplot(1,1,1, projection=WCS(h_SDSS_r))\n",
    "ax.imshow(d_SDSS_r, cmap='Oranges', vmax=np.percentile(d_SDSS_r, 99.8))\n",
    "ax.contour(NVSS_reprojected, levels=rms_NVSS*np.arange(3,7,2), cmap='Blues_r')\n",
    "ax.set_xlabel('RA', size=18,family='serif')\n",
    "ax.set_ylabel('Dec', size=18,family='serif')\n",
    "plt.xticks(fontsize=15)\n",
    "plt.yticks(fontsize=15)\n",
    "\n",
    "fig.savefig('{}_overlay.png'.format(name), dpi=200)\n",
    "\n"
   ]
  },
  {
   "cell_type": "code",
   "execution_count": null,
   "id": "4de05356",
   "metadata": {},
   "outputs": [],
   "source": []
  },
  {
   "cell_type": "code",
   "execution_count": null,
   "id": "74296045",
   "metadata": {},
   "outputs": [],
   "source": []
  }
 ],
 "metadata": {
  "kernelspec": {
   "display_name": "Python 3 (ipykernel)",
   "language": "python",
   "name": "python3"
  },
  "language_info": {
   "codemirror_mode": {
    "name": "ipython",
    "version": 3
   },
   "file_extension": ".py",
   "mimetype": "text/x-python",
   "name": "python",
   "nbconvert_exporter": "python",
   "pygments_lexer": "ipython3",
   "version": "3.9.15"
  }
 },
 "nbformat": 4,
 "nbformat_minor": 5
}
